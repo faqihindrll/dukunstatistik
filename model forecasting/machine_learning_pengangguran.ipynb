{
 "cells": [
  {
   "cell_type": "markdown",
   "metadata": {},
   "source": [
    "### Import Library"
   ]
  },
  {
   "cell_type": "code",
   "execution_count": 1,
   "metadata": {},
   "outputs": [],
   "source": [
    "from sklearn.model_selection import train_test_split, GridSearchCV\n",
    "from sklearn.ensemble import RandomForestRegressor, GradientBoostingRegressor\n",
    "from xgboost import XGBRegressor\n",
    "from sklearn.metrics import mean_absolute_error, mean_squared_error, r2_score, mean_absolute_percentage_error\n",
    "from sklearn.preprocessing import StandardScaler\n",
    "from sklearn.decomposition import PCA\n",
    "import numpy as np\n",
    "import pandas as pd\n",
    "import matplotlib.pyplot as plt\n",
    "import joblib\n"
   ]
  },
  {
   "cell_type": "markdown",
   "metadata": {},
   "source": [
    "### Import Data"
   ]
  },
  {
   "cell_type": "code",
   "execution_count": 2,
   "metadata": {},
   "outputs": [
    {
     "data": {
      "text/html": [
       "<div>\n",
       "<style scoped>\n",
       "    .dataframe tbody tr th:only-of-type {\n",
       "        vertical-align: middle;\n",
       "    }\n",
       "\n",
       "    .dataframe tbody tr th {\n",
       "        vertical-align: top;\n",
       "    }\n",
       "\n",
       "    .dataframe thead th {\n",
       "        text-align: right;\n",
       "    }\n",
       "</style>\n",
       "<table border=\"1\" class=\"dataframe\">\n",
       "  <thead>\n",
       "    <tr style=\"text-align: right;\">\n",
       "      <th></th>\n",
       "      <th>Tahun</th>\n",
       "      <th>Lowongan Kerja</th>\n",
       "      <th>TPT</th>\n",
       "    </tr>\n",
       "  </thead>\n",
       "  <tbody>\n",
       "    <tr>\n",
       "      <th>0</th>\n",
       "      <td>2010</td>\n",
       "      <td>65.25</td>\n",
       "      <td>7.48</td>\n",
       "    </tr>\n",
       "    <tr>\n",
       "      <th>1</th>\n",
       "      <td>2011</td>\n",
       "      <td>81.00</td>\n",
       "      <td>10.59</td>\n",
       "    </tr>\n",
       "    <tr>\n",
       "      <th>2</th>\n",
       "      <td>2012</td>\n",
       "      <td>65.25</td>\n",
       "      <td>6.12</td>\n",
       "    </tr>\n",
       "    <tr>\n",
       "      <th>3</th>\n",
       "      <td>2013</td>\n",
       "      <td>75.00</td>\n",
       "      <td>6.89</td>\n",
       "    </tr>\n",
       "    <tr>\n",
       "      <th>4</th>\n",
       "      <td>2014</td>\n",
       "      <td>81.00</td>\n",
       "      <td>8.47</td>\n",
       "    </tr>\n",
       "    <tr>\n",
       "      <th>5</th>\n",
       "      <td>2015</td>\n",
       "      <td>52.50</td>\n",
       "      <td>9.52</td>\n",
       "    </tr>\n",
       "    <tr>\n",
       "      <th>6</th>\n",
       "      <td>2016</td>\n",
       "      <td>52.00</td>\n",
       "      <td>8.94</td>\n",
       "    </tr>\n",
       "    <tr>\n",
       "      <th>7</th>\n",
       "      <td>2017</td>\n",
       "      <td>65.25</td>\n",
       "      <td>7.33</td>\n",
       "    </tr>\n",
       "    <tr>\n",
       "      <th>8</th>\n",
       "      <td>2018</td>\n",
       "      <td>51.50</td>\n",
       "      <td>8.24</td>\n",
       "    </tr>\n",
       "    <tr>\n",
       "      <th>9</th>\n",
       "      <td>2019</td>\n",
       "      <td>55.50</td>\n",
       "      <td>8.12</td>\n",
       "    </tr>\n",
       "    <tr>\n",
       "      <th>10</th>\n",
       "      <td>2020</td>\n",
       "      <td>54.00</td>\n",
       "      <td>9.82</td>\n",
       "    </tr>\n",
       "    <tr>\n",
       "      <th>11</th>\n",
       "      <td>2021</td>\n",
       "      <td>64.00</td>\n",
       "      <td>9.97</td>\n",
       "    </tr>\n",
       "    <tr>\n",
       "      <th>12</th>\n",
       "      <td>2022</td>\n",
       "      <td>51.00</td>\n",
       "      <td>9.64</td>\n",
       "    </tr>\n",
       "    <tr>\n",
       "      <th>13</th>\n",
       "      <td>2023</td>\n",
       "      <td>67.00</td>\n",
       "      <td>8.60</td>\n",
       "    </tr>\n",
       "    <tr>\n",
       "      <th>14</th>\n",
       "      <td>2024</td>\n",
       "      <td>59.00</td>\n",
       "      <td>NaN</td>\n",
       "    </tr>\n",
       "  </tbody>\n",
       "</table>\n",
       "</div>"
      ],
      "text/plain": [
       "    Tahun  Lowongan Kerja    TPT\n",
       "0    2010           65.25   7.48\n",
       "1    2011           81.00  10.59\n",
       "2    2012           65.25   6.12\n",
       "3    2013           75.00   6.89\n",
       "4    2014           81.00   8.47\n",
       "5    2015           52.50   9.52\n",
       "6    2016           52.00   8.94\n",
       "7    2017           65.25   7.33\n",
       "8    2018           51.50   8.24\n",
       "9    2019           55.50   8.12\n",
       "10   2020           54.00   9.82\n",
       "11   2021           64.00   9.97\n",
       "12   2022           51.00   9.64\n",
       "13   2023           67.00   8.60\n",
       "14   2024           59.00    NaN"
      ]
     },
     "execution_count": 2,
     "metadata": {},
     "output_type": "execute_result"
    }
   ],
   "source": [
    "# Membaca file Excel yang diunggah oleh user\n",
    "file_path = '../scraping/data_gti_tpt_imputed_3n.xlsx'\n",
    "data = pd.read_excel(file_path)\n",
    "data"
   ]
  },
  {
   "cell_type": "markdown",
   "metadata": {},
   "source": [
    "### Split"
   ]
  },
  {
   "cell_type": "code",
   "execution_count": 10,
   "metadata": {},
   "outputs": [],
   "source": [
    "target = 'TPT'\n",
    "exog_vars = data[['Lowongan Kerja']]\n",
    "\n",
    "train_data = data[data['Tahun'].between(2010, 2021)].drop(columns=['Tahun'])\n",
    "test_data = data[data['Tahun'].between(2022, 2023)].drop(columns=['Tahun'])"
   ]
  },
  {
   "cell_type": "code",
   "execution_count": 4,
   "metadata": {},
   "outputs": [
    {
     "data": {
      "text/html": [
       "<div>\n",
       "<style scoped>\n",
       "    .dataframe tbody tr th:only-of-type {\n",
       "        vertical-align: middle;\n",
       "    }\n",
       "\n",
       "    .dataframe tbody tr th {\n",
       "        vertical-align: top;\n",
       "    }\n",
       "\n",
       "    .dataframe thead th {\n",
       "        text-align: right;\n",
       "    }\n",
       "</style>\n",
       "<table border=\"1\" class=\"dataframe\">\n",
       "  <thead>\n",
       "    <tr style=\"text-align: right;\">\n",
       "      <th></th>\n",
       "      <th>Lowongan Kerja</th>\n",
       "      <th>TPT</th>\n",
       "    </tr>\n",
       "  </thead>\n",
       "  <tbody>\n",
       "    <tr>\n",
       "      <th>0</th>\n",
       "      <td>65.25</td>\n",
       "      <td>7.48</td>\n",
       "    </tr>\n",
       "    <tr>\n",
       "      <th>1</th>\n",
       "      <td>81.00</td>\n",
       "      <td>10.59</td>\n",
       "    </tr>\n",
       "    <tr>\n",
       "      <th>2</th>\n",
       "      <td>65.25</td>\n",
       "      <td>6.12</td>\n",
       "    </tr>\n",
       "    <tr>\n",
       "      <th>3</th>\n",
       "      <td>75.00</td>\n",
       "      <td>6.89</td>\n",
       "    </tr>\n",
       "    <tr>\n",
       "      <th>4</th>\n",
       "      <td>81.00</td>\n",
       "      <td>8.47</td>\n",
       "    </tr>\n",
       "    <tr>\n",
       "      <th>5</th>\n",
       "      <td>52.50</td>\n",
       "      <td>9.52</td>\n",
       "    </tr>\n",
       "    <tr>\n",
       "      <th>6</th>\n",
       "      <td>52.00</td>\n",
       "      <td>8.94</td>\n",
       "    </tr>\n",
       "    <tr>\n",
       "      <th>7</th>\n",
       "      <td>65.25</td>\n",
       "      <td>7.33</td>\n",
       "    </tr>\n",
       "    <tr>\n",
       "      <th>8</th>\n",
       "      <td>51.50</td>\n",
       "      <td>8.24</td>\n",
       "    </tr>\n",
       "    <tr>\n",
       "      <th>9</th>\n",
       "      <td>55.50</td>\n",
       "      <td>8.12</td>\n",
       "    </tr>\n",
       "    <tr>\n",
       "      <th>10</th>\n",
       "      <td>54.00</td>\n",
       "      <td>9.82</td>\n",
       "    </tr>\n",
       "    <tr>\n",
       "      <th>11</th>\n",
       "      <td>64.00</td>\n",
       "      <td>9.97</td>\n",
       "    </tr>\n",
       "  </tbody>\n",
       "</table>\n",
       "</div>"
      ],
      "text/plain": [
       "    Lowongan Kerja    TPT\n",
       "0            65.25   7.48\n",
       "1            81.00  10.59\n",
       "2            65.25   6.12\n",
       "3            75.00   6.89\n",
       "4            81.00   8.47\n",
       "5            52.50   9.52\n",
       "6            52.00   8.94\n",
       "7            65.25   7.33\n",
       "8            51.50   8.24\n",
       "9            55.50   8.12\n",
       "10           54.00   9.82\n",
       "11           64.00   9.97"
      ]
     },
     "execution_count": 4,
     "metadata": {},
     "output_type": "execute_result"
    }
   ],
   "source": [
    "train_data"
   ]
  },
  {
   "cell_type": "code",
   "execution_count": 5,
   "metadata": {},
   "outputs": [
    {
     "data": {
      "text/html": [
       "<div>\n",
       "<style scoped>\n",
       "    .dataframe tbody tr th:only-of-type {\n",
       "        vertical-align: middle;\n",
       "    }\n",
       "\n",
       "    .dataframe tbody tr th {\n",
       "        vertical-align: top;\n",
       "    }\n",
       "\n",
       "    .dataframe thead th {\n",
       "        text-align: right;\n",
       "    }\n",
       "</style>\n",
       "<table border=\"1\" class=\"dataframe\">\n",
       "  <thead>\n",
       "    <tr style=\"text-align: right;\">\n",
       "      <th></th>\n",
       "      <th>Lowongan Kerja</th>\n",
       "      <th>TPT</th>\n",
       "    </tr>\n",
       "  </thead>\n",
       "  <tbody>\n",
       "    <tr>\n",
       "      <th>12</th>\n",
       "      <td>51.0</td>\n",
       "      <td>9.64</td>\n",
       "    </tr>\n",
       "    <tr>\n",
       "      <th>13</th>\n",
       "      <td>67.0</td>\n",
       "      <td>8.60</td>\n",
       "    </tr>\n",
       "  </tbody>\n",
       "</table>\n",
       "</div>"
      ],
      "text/plain": [
       "    Lowongan Kerja   TPT\n",
       "12            51.0  9.64\n",
       "13            67.0  8.60"
      ]
     },
     "execution_count": 5,
     "metadata": {},
     "output_type": "execute_result"
    }
   ],
   "source": [
    "test_data"
   ]
  },
  {
   "cell_type": "markdown",
   "metadata": {},
   "source": [
    "### Modelling"
   ]
  },
  {
   "cell_type": "code",
   "execution_count": 13,
   "metadata": {},
   "outputs": [],
   "source": [
    "X_train = train_data[['Lowongan Kerja']]\n",
    "y_train = train_data[['TPT']]\n",
    "X_test = test_data[['Lowongan Kerja']]\n",
    "y_test = test_data[['TPT']]"
   ]
  },
  {
   "cell_type": "code",
   "execution_count": 17,
   "metadata": {},
   "outputs": [],
   "source": [
    "models = {\n",
    "    \"Random Forest_Pengangguran\": RandomForestRegressor(random_state=42),\n",
    "    \"Gradient Boosting_Pengangguran\": GradientBoostingRegressor(random_state=42),\n",
    "    \"XGBoost_Pengangguran\": XGBRegressor(random_state=42, objective='reg:squarederror')\n",
    "}\n",
    "\n",
    "param_grid = {\n",
    "    \"Random Forest_Pengangguran\": {\n",
    "        'n_estimators': [50, 100, 150, 200, 250, 300, 350, 400, 450, 500],\n",
    "        'max_depth': [None, 5, 10, 15, 20, 25, 30, 35, 40, 45]\n",
    "    },\n",
    "    \"Gradient Boosting_Pengangguran\": {\n",
    "        'n_estimators': [50, 100, 150, 200, 250, 300, 350, 400, 450, 500],\n",
    "        'learning_rate': [0.001, 0.01, 0.05, 0.1, 0.15, 0.2, 0.25, 0.3, 0.35, 0.4],\n",
    "        'max_depth': [3, 4, 5, 6, 7, 8, 9, 10, 11, 12]\n",
    "    },\n",
    "    \"XGBoost_Pengangguran\": {\n",
    "        'n_estimators': [50, 100, 150, 200, 250, 300, 350, 400, 450, 500],\n",
    "        'learning_rate': [0.001, 0.01, 0.05, 0.1, 0.15, 0.2, 0.25, 0.3, 0.35, 0.4],\n",
    "        'max_depth': [3, 4, 5, 6, 7, 8, 9, 10, 11, 12]\n",
    "    }\n",
    "}"
   ]
  },
  {
   "cell_type": "markdown",
   "metadata": {},
   "source": [
    "Running"
   ]
  },
  {
   "cell_type": "code",
   "execution_count": 18,
   "metadata": {},
   "outputs": [
    {
     "name": "stderr",
     "output_type": "stream",
     "text": [
      "c:\\Users\\fezaa\\anaconda3\\Lib\\site-packages\\sklearn\\base.py:1474: DataConversionWarning: A column-vector y was passed when a 1d array was expected. Please change the shape of y to (n_samples,), for example using ravel().\n",
      "  return fit_method(estimator, *args, **kwargs)\n",
      "c:\\Users\\fezaa\\anaconda3\\Lib\\site-packages\\sklearn\\ensemble\\_gb.py:668: DataConversionWarning: A column-vector y was passed when a 1d array was expected. Please change the shape of y to (n_samples, ), for example using ravel().\n",
      "  y = column_or_1d(y, warn=True)  # TODO: Is this still required?\n"
     ]
    }
   ],
   "source": [
    "best_models = {}\n",
    "model_results = {}\n",
    "\n",
    "for name, model in models.items():\n",
    "    grid_search = GridSearchCV(model, param_grid[name], cv=3, scoring='neg_mean_absolute_error', n_jobs=-1)\n",
    "    grid_search.fit(X_train, y_train)\n",
    "    best_models[name] = grid_search.best_estimator_\n",
    "    y_pred = best_models[name].predict(X_test)\n",
    "    model_results[name] = {\n",
    "        \"MAE\": mean_absolute_error(y_test, y_pred),\n",
    "        \"RMSE\": np.sqrt(mean_squared_error(y_test, y_pred)),\n",
    "        \"MAPE\": mean_absolute_percentage_error(y_test, y_pred),\n",
    "        \"R2\": r2_score(y_test, y_pred),\n",
    "        \"Best Params\": grid_search.best_params_\n",
    "    }"
   ]
  },
  {
   "cell_type": "code",
   "execution_count": 19,
   "metadata": {},
   "outputs": [
    {
     "data": {
      "text/plain": [
       "{'Random Forest_Pengangguran': RandomForestRegressor(n_estimators=150, random_state=42),\n",
       " 'Gradient Boosting_Pengangguran': GradientBoostingRegressor(learning_rate=0.01, max_depth=4, random_state=42),\n",
       " 'XGBoost_Pengangguran': XGBRegressor(base_score=None, booster=None, callbacks=None,\n",
       "              colsample_bylevel=None, colsample_bynode=None,\n",
       "              colsample_bytree=None, device=None, early_stopping_rounds=None,\n",
       "              enable_categorical=False, eval_metric=None, feature_types=None,\n",
       "              gamma=None, grow_policy=None, importance_type=None,\n",
       "              interaction_constraints=None, learning_rate=0.01, max_bin=None,\n",
       "              max_cat_threshold=None, max_cat_to_onehot=None,\n",
       "              max_delta_step=None, max_depth=4, max_leaves=None,\n",
       "              min_child_weight=None, missing=nan, monotone_constraints=None,\n",
       "              multi_strategy=None, n_estimators=450, n_jobs=None,\n",
       "              num_parallel_tree=None, random_state=42, ...)}"
      ]
     },
     "execution_count": 19,
     "metadata": {},
     "output_type": "execute_result"
    }
   ],
   "source": [
    "best_models"
   ]
  },
  {
   "cell_type": "markdown",
   "metadata": {},
   "source": [
    "### Model Terbaik"
   ]
  },
  {
   "cell_type": "code",
   "execution_count": 20,
   "metadata": {},
   "outputs": [],
   "source": [
    "# Forecasting untuk tahun 2024\n",
    "forecast_2024 = data[data['Tahun'] == 2024].copy()\n",
    "forecast_2024[target] = None"
   ]
  },
  {
   "cell_type": "code",
   "execution_count": 22,
   "metadata": {},
   "outputs": [
    {
     "data": {
      "text/html": [
       "<div>\n",
       "<style scoped>\n",
       "    .dataframe tbody tr th:only-of-type {\n",
       "        vertical-align: middle;\n",
       "    }\n",
       "\n",
       "    .dataframe tbody tr th {\n",
       "        vertical-align: top;\n",
       "    }\n",
       "\n",
       "    .dataframe thead th {\n",
       "        text-align: right;\n",
       "    }\n",
       "</style>\n",
       "<table border=\"1\" class=\"dataframe\">\n",
       "  <thead>\n",
       "    <tr style=\"text-align: right;\">\n",
       "      <th></th>\n",
       "      <th>Lowongan Kerja</th>\n",
       "    </tr>\n",
       "  </thead>\n",
       "  <tbody>\n",
       "    <tr>\n",
       "      <th>14</th>\n",
       "      <td>59.0</td>\n",
       "    </tr>\n",
       "  </tbody>\n",
       "</table>\n",
       "</div>"
      ],
      "text/plain": [
       "    Lowongan Kerja\n",
       "14            59.0"
      ]
     },
     "execution_count": 22,
     "metadata": {},
     "output_type": "execute_result"
    }
   ],
   "source": [
    "forecast_2024[['Lowongan Kerja']]"
   ]
  },
  {
   "cell_type": "code",
   "execution_count": 23,
   "metadata": {},
   "outputs": [],
   "source": [
    "# Langkah 3: Lakukan prediksi menggunakan model terbaik berdasarkan MAE\n",
    "best_model_name = min(model_results, key=lambda k: model_results[k][\"MAE\"])\n",
    "best_model = best_models[best_model_name]\n"
   ]
  },
  {
   "cell_type": "code",
   "execution_count": 25,
   "metadata": {},
   "outputs": [
    {
     "data": {
      "text/html": [
       "<div>\n",
       "<style scoped>\n",
       "    .dataframe tbody tr th:only-of-type {\n",
       "        vertical-align: middle;\n",
       "    }\n",
       "\n",
       "    .dataframe tbody tr th {\n",
       "        vertical-align: top;\n",
       "    }\n",
       "\n",
       "    .dataframe thead th {\n",
       "        text-align: right;\n",
       "    }\n",
       "</style>\n",
       "<table border=\"1\" class=\"dataframe\">\n",
       "  <thead>\n",
       "    <tr style=\"text-align: right;\">\n",
       "      <th></th>\n",
       "      <th>Tahun</th>\n",
       "      <th>TPT</th>\n",
       "    </tr>\n",
       "  </thead>\n",
       "  <tbody>\n",
       "    <tr>\n",
       "      <th>14</th>\n",
       "      <td>2024</td>\n",
       "      <td>8.322213</td>\n",
       "    </tr>\n",
       "  </tbody>\n",
       "</table>\n",
       "</div>"
      ],
      "text/plain": [
       "    Tahun       TPT\n",
       "14   2024  8.322213"
      ]
     },
     "execution_count": 25,
     "metadata": {},
     "output_type": "execute_result"
    }
   ],
   "source": [
    "forecast_2024['TPT'] = best_model.predict(forecast_2024[['Lowongan Kerja']])\n",
    "\n",
    "forecast_2024[['Tahun', 'TPT']]"
   ]
  },
  {
   "cell_type": "code",
   "execution_count": 26,
   "metadata": {},
   "outputs": [
    {
     "data": {
      "text/plain": [
       "({'Random Forest_Pengangguran': {'MAE': 1.3415463492063413,\n",
       "   'RMSE': 1.3543168221552402,\n",
       "   'MAPE': 0.14874296543410614,\n",
       "   'R2': -5.783188072384117,\n",
       "   'Best Params': {'max_depth': None, 'n_estimators': 150}},\n",
       "  'Gradient Boosting_Pengangguran': {'MAE': 1.1995436141787983,\n",
       "   'RMSE': 1.2053573454582165,\n",
       "   'MAPE': 0.13121624181478053,\n",
       "   'R2': -4.373100333765073,\n",
       "   'Best Params': {'learning_rate': 0.01,\n",
       "    'max_depth': 4,\n",
       "    'n_estimators': 100}},\n",
       "  'XGBoost_Pengangguran': {'MAE': 1.4694946956634523,\n",
       "   'RMSE': 1.475134553487185,\n",
       "   'MAPE': 0.16246265135572463,\n",
       "   'R2': -7.047418457440209,\n",
       "   'Best Params': {'learning_rate': 0.01,\n",
       "    'max_depth': 4,\n",
       "    'n_estimators': 450}}},\n",
       "     Tahun       TPT\n",
       " 14   2024  8.322213)"
      ]
     },
     "execution_count": 26,
     "metadata": {},
     "output_type": "execute_result"
    }
   ],
   "source": [
    "# Menampilkan hasil evaluasi model dan prediksi untuk tahun 2024\n",
    "model_results, forecast_2024[['Tahun', 'TPT']]"
   ]
  },
  {
   "cell_type": "markdown",
   "metadata": {},
   "source": [
    "### Plot Forecasting"
   ]
  },
  {
   "cell_type": "code",
   "execution_count": 29,
   "metadata": {},
   "outputs": [
    {
     "data": {
      "image/png": "[encoded data removed]",
      "text/plain": [
       "<Figure size 1000x600 with 1 Axes>"
      ]
     },
     "metadata": {},
     "output_type": "display_data"
    }
   ],
   "source": [
    "# Menggabungkan data asli dan data forecasting untuk plot\n",
    "historical_data = data[['Tahun', 'TPT']]\n",
    "forecast_2024_data = forecast_2024[['Tahun', 'TPT']]\n",
    "\n",
    "# Gabungkan data historis dan hasil forecast\n",
    "combined_data = pd.concat([historical_data, forecast_2024_data])\n",
    "\n",
    "# Plot data historis dan hasil forecast sebagai satu garis yang tersambung\n",
    "plt.figure(figsize=(10, 6))\n",
    "plt.plot(historical_data['Tahun'], historical_data['TPT'], marker='o', color='blue', label='Data Historis + Forecast')\n",
    "plt.plot(forecast_2024_data['Tahun'], forecast_2024_data['TPT'], marker='o', color='red', label='Forecast 2024')\n",
    "\n",
    "# Menambahkan judul dan label\n",
    "plt.title('Forecast TPT untuk Tahun 2024')\n",
    "plt.xlabel('Tahun')\n",
    "plt.ylabel('TPT')\n",
    "plt.legend()\n",
    "plt.grid(True)\n",
    "plt.show()"
   ]
  },
  {
   "cell_type": "markdown",
   "metadata": {},
   "source": [
    "### Hasil Setiap Model"
   ]
  },
  {
   "cell_type": "code",
   "execution_count": 30,
   "metadata": {},
   "outputs": [
    {
     "name": "stdout",
     "output_type": "stream",
     "text": [
      "Forecast 'Persentase Kemiskinan' tahun 2024 oleh Random Forest_Pengangguran: 8.4840\n",
      "Forecast 'Persentase Kemiskinan' tahun 2024 oleh Gradient Boosting_Pengangguran: 8.3222\n",
      "Forecast 'Persentase Kemiskinan' tahun 2024 oleh XGBoost_Pengangguran: 8.2994\n"
     ]
    }
   ],
   "source": [
    "# Dictionary untuk menyimpan hasil forecast dari setiap model\n",
    "forecast_results = {}\n",
    "\n",
    "# Langkah 3: Melakukan forecast untuk tahun 2024 menggunakan setiap model yang sudah di-tuning\n",
    "for name, model in best_models.items():\n",
    "    forecast_2024[target] = model.predict(forecast_2024[['Lowongan Kerja']])\n",
    "    forecast_results[name] = forecast_2024[target].values[0]  # Simpan hasil prediksi untuk tahun 2024\n",
    "\n",
    "# Tampilkan hasil forecasting dari setiap model\n",
    "for model_name, forecast_value in forecast_results.items():\n",
    "    print(f\"Forecast 'Persentase Kemiskinan' tahun 2024 oleh {model_name}: {forecast_value:.4f}\")\n"
   ]
  },
  {
   "cell_type": "markdown",
   "metadata": {},
   "source": [
    "### Menyimpan Model"
   ]
  },
  {
   "cell_type": "code",
   "execution_count": 32,
   "metadata": {},
   "outputs": [
    {
     "name": "stdout",
     "output_type": "stream",
     "text": [
      "Model Random Forest_Pengangguran berhasil disimpan sebagai Random Forest_Pengangguran.pkl\n",
      "Model Gradient Boosting_Pengangguran berhasil disimpan sebagai Gradient Boosting_Pengangguran.pkl\n",
      "Model XGBoost_Pengangguran berhasil disimpan sebagai XGBoost_Pengangguran.pkl\n"
     ]
    }
   ],
   "source": [
    "import joblib\n",
    "\n",
    "# Simpan model terbaik dari setiap metode\n",
    "for name, model in best_models.items():\n",
    "    filename = f'{name}.pkl'\n",
    "    joblib.dump(model, filename)\n",
    "    print(f'Model {name} berhasil disimpan sebagai {filename}')\n"
   ]
  },
  {
   "cell_type": "markdown",
   "metadata": {},
   "source": [
    "#### Input Query"
   ]
  },
  {
   "cell_type": "code",
   "execution_count": 41,
   "metadata": {},
   "outputs": [],
   "source": [
    "import joblib\n",
    "\n",
    "best_models = {\n",
    "    'Random Forest': joblib.load('Random Forest_Pengangguran.pkl'),\n",
    "    'Gradient Boosting': joblib.load('Gradient Boosting_Pengangguran.pkl'),\n",
    "    'XGBoost': joblib.load('XGBoost_Pengangguran.pkl')\n",
    "}"
   ]
  },
  {
   "cell_type": "markdown",
   "metadata": {},
   "source": [
    "### Semua Model"
   ]
  },
  {
   "cell_type": "code",
   "execution_count": 64,
   "metadata": {},
   "outputs": [],
   "source": [
    "def forecast_tpt_all(new_input):\n",
    "    forecast_results = {}\n",
    "    new_input_reshaped = [new_input]  # Reshaping input to a 2D array\n",
    "    for name, model in best_models.items():\n",
    "        forecast_value = model.predict(new_input_reshaped)\n",
    "        forecast_results[name] = forecast_value[0]\n",
    "\n",
    "    return forecast_results"
   ]
  },
  {
   "cell_type": "markdown",
   "metadata": {},
   "source": [
    "### Hanya Satu Model Terbaik"
   ]
  },
  {
   "cell_type": "code",
   "execution_count": 46,
   "metadata": {},
   "outputs": [],
   "source": [
    "# model terbaik xgboost\n",
    "def forecast_tpt(new_input):\n",
    "    forecast_value = joblib.load('XGBoost_Pengangguran.pkl').predict(new_input)\n",
    "    # Return the forecasted value\n",
    "    return forecast_value[0]  # Assuming the model returns an array-like structure"
   ]
  },
  {
   "cell_type": "markdown",
   "metadata": {},
   "source": [
    "### Testing"
   ]
  },
  {
   "cell_type": "code",
   "execution_count": 65,
   "metadata": {},
   "outputs": [],
   "source": [
    "import random\n",
    "\n",
    "new_input_2024 = [random.randint(1, 100) for _ in range(8)]\n",
    "\n",
    "query = [59]"
   ]
  },
  {
   "cell_type": "markdown",
   "metadata": {},
   "source": [
    "All Model"
   ]
  },
  {
   "cell_type": "code",
   "execution_count": 73,
   "metadata": {},
   "outputs": [
    {
     "name": "stderr",
     "output_type": "stream",
     "text": [
      "c:\\Users\\fezaa\\anaconda3\\Lib\\site-packages\\sklearn\\base.py:493: UserWarning: X does not have valid feature names, but RandomForestRegressor was fitted with feature names\n",
      "  warnings.warn(\n",
      "c:\\Users\\fezaa\\anaconda3\\Lib\\site-packages\\sklearn\\base.py:493: UserWarning: X does not have valid feature names, but GradientBoostingRegressor was fitted with feature names\n",
      "  warnings.warn(\n"
     ]
    },
    {
     "data": {
      "text/plain": [
       "{'Random Forest': 8.691397777777771,\n",
       " 'Gradient Boosting': 8.243535915179715,\n",
       " 'XGBoost': 8.206835}"
      ]
     },
     "execution_count": 73,
     "metadata": {},
     "output_type": "execute_result"
    }
   ],
   "source": [
    "forecast_2024 = forecast_tpt_all(query)\n",
    "\n",
    "forecast_2024"
   ]
  },
  {
   "cell_type": "markdown",
   "metadata": {},
   "source": [
    "Satu Model"
   ]
  },
  {
   "cell_type": "code",
   "execution_count": 62,
   "metadata": {},
   "outputs": [
    {
     "data": {
      "text/plain": [
       "7.001636"
      ]
     },
     "execution_count": 62,
     "metadata": {},
     "output_type": "execute_result"
    }
   ],
   "source": [
    "forecast_2024 = forecast_tpt(new_input_2024)\n",
    "\n",
    "forecast_2024"
   ]
  }
 ],
 "metadata": {
  "kernelspec": {
   "display_name": "base",
   "language": "python",
   "name": "python3"
  },
  "language_info": {
   "codemirror_mode": {
    "name": "ipython",
    "version": 3
   },
   "file_extension": ".py",
   "mimetype": "text/x-python",
   "name": "python",
   "nbconvert_exporter": "python",
   "pygments_lexer": "ipython3",
   "version": "3.11.7"
  }
 },
 "nbformat": 4,
 "nbformat_minor": 2
}
