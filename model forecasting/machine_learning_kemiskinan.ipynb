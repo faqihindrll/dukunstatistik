{
 "cells": [
  {
   "cell_type": "markdown",
   "metadata": {},
   "source": [
    "### Import Library"
   ]
  },
  {
   "cell_type": "code",
   "execution_count": 46,
   "metadata": {},
   "outputs": [],
   "source": [
    "from sklearn.model_selection import train_test_split, GridSearchCV\n",
    "from sklearn.ensemble import RandomForestRegressor, GradientBoostingRegressor\n",
    "from xgboost import XGBRegressor\n",
    "from sklearn.metrics import mean_absolute_error, mean_squared_error, r2_score, mean_absolute_percentage_error\n",
    "from sklearn.preprocessing import StandardScaler\n",
    "from sklearn.decomposition import PCA\n",
    "import numpy as np\n",
    "import pandas as pd\n",
    "import matplotlib.pyplot as plt\n",
    "import joblib\n"
   ]
  },
  {
   "cell_type": "markdown",
   "metadata": {},
   "source": [
    "### Import Data"
   ]
  },
  {
   "cell_type": "code",
   "execution_count": 47,
   "metadata": {},
   "outputs": [
    {
     "data": {
      "text/html": [
       "<div>\n",
       "<style scoped>\n",
       "    .dataframe tbody tr th:only-of-type {\n",
       "        vertical-align: middle;\n",
       "    }\n",
       "\n",
       "    .dataframe tbody tr th {\n",
       "        vertical-align: top;\n",
       "    }\n",
       "\n",
       "    .dataframe thead th {\n",
       "        text-align: right;\n",
       "    }\n",
       "</style>\n",
       "<table border=\"1\" class=\"dataframe\">\n",
       "  <thead>\n",
       "    <tr style=\"text-align: right;\">\n",
       "      <th></th>\n",
       "      <th>Tahun</th>\n",
       "      <th>Persentase Kemiskinan</th>\n",
       "      <th>Biaya kuliah</th>\n",
       "      <th>Biaya listrik</th>\n",
       "      <th>Biaya rumah sakit</th>\n",
       "      <th>Medical check up</th>\n",
       "      <th>Paket Internet</th>\n",
       "      <th>Biaya sekolah</th>\n",
       "      <th>Harga bensin</th>\n",
       "      <th>Jual rumah</th>\n",
       "    </tr>\n",
       "  </thead>\n",
       "  <tbody>\n",
       "    <tr>\n",
       "      <th>0</th>\n",
       "      <td>2010</td>\n",
       "      <td>13.11</td>\n",
       "      <td>22.252109</td>\n",
       "      <td>3.202537</td>\n",
       "      <td>1.987781</td>\n",
       "      <td>0.993891</td>\n",
       "      <td>24.375170</td>\n",
       "      <td>14.982903</td>\n",
       "      <td>10.907951</td>\n",
       "      <td>21.297658</td>\n",
       "    </tr>\n",
       "    <tr>\n",
       "      <th>1</th>\n",
       "      <td>2011</td>\n",
       "      <td>11.51</td>\n",
       "      <td>34.500000</td>\n",
       "      <td>10.000000</td>\n",
       "      <td>5.500000</td>\n",
       "      <td>7.000000</td>\n",
       "      <td>43.000000</td>\n",
       "      <td>0.000000</td>\n",
       "      <td>0.000000</td>\n",
       "      <td>0.000000</td>\n",
       "    </tr>\n",
       "    <tr>\n",
       "      <th>2</th>\n",
       "      <td>2012</td>\n",
       "      <td>10.75</td>\n",
       "      <td>22.252109</td>\n",
       "      <td>3.202537</td>\n",
       "      <td>1.987781</td>\n",
       "      <td>0.993891</td>\n",
       "      <td>24.375170</td>\n",
       "      <td>14.982903</td>\n",
       "      <td>10.907951</td>\n",
       "      <td>21.297658</td>\n",
       "    </tr>\n",
       "    <tr>\n",
       "      <th>3</th>\n",
       "      <td>2013</td>\n",
       "      <td>10.58</td>\n",
       "      <td>22.252109</td>\n",
       "      <td>3.202537</td>\n",
       "      <td>1.987781</td>\n",
       "      <td>0.993891</td>\n",
       "      <td>24.375170</td>\n",
       "      <td>14.982903</td>\n",
       "      <td>10.907951</td>\n",
       "      <td>21.297658</td>\n",
       "    </tr>\n",
       "    <tr>\n",
       "      <th>4</th>\n",
       "      <td>2014</td>\n",
       "      <td>9.87</td>\n",
       "      <td>22.252109</td>\n",
       "      <td>3.202537</td>\n",
       "      <td>1.987781</td>\n",
       "      <td>0.993891</td>\n",
       "      <td>24.375170</td>\n",
       "      <td>14.982903</td>\n",
       "      <td>10.907951</td>\n",
       "      <td>21.297658</td>\n",
       "    </tr>\n",
       "    <tr>\n",
       "      <th>5</th>\n",
       "      <td>2015</td>\n",
       "      <td>10.09</td>\n",
       "      <td>22.252109</td>\n",
       "      <td>3.202537</td>\n",
       "      <td>1.987781</td>\n",
       "      <td>0.993891</td>\n",
       "      <td>24.375170</td>\n",
       "      <td>14.982903</td>\n",
       "      <td>10.907951</td>\n",
       "      <td>21.297658</td>\n",
       "    </tr>\n",
       "    <tr>\n",
       "      <th>6</th>\n",
       "      <td>2016</td>\n",
       "      <td>10.10</td>\n",
       "      <td>25.000000</td>\n",
       "      <td>0.000000</td>\n",
       "      <td>0.000000</td>\n",
       "      <td>0.000000</td>\n",
       "      <td>25.000000</td>\n",
       "      <td>13.250000</td>\n",
       "      <td>11.750000</td>\n",
       "      <td>25.000000</td>\n",
       "    </tr>\n",
       "    <tr>\n",
       "      <th>7</th>\n",
       "      <td>2017</td>\n",
       "      <td>9.90</td>\n",
       "      <td>24.271845</td>\n",
       "      <td>0.000000</td>\n",
       "      <td>2.912621</td>\n",
       "      <td>1.213592</td>\n",
       "      <td>23.058252</td>\n",
       "      <td>9.223301</td>\n",
       "      <td>15.048544</td>\n",
       "      <td>24.271845</td>\n",
       "    </tr>\n",
       "    <tr>\n",
       "      <th>8</th>\n",
       "      <td>2018</td>\n",
       "      <td>7.94</td>\n",
       "      <td>21.250000</td>\n",
       "      <td>3.750000</td>\n",
       "      <td>0.000000</td>\n",
       "      <td>0.000000</td>\n",
       "      <td>25.000000</td>\n",
       "      <td>14.500000</td>\n",
       "      <td>10.500000</td>\n",
       "      <td>25.000000</td>\n",
       "    </tr>\n",
       "    <tr>\n",
       "      <th>9</th>\n",
       "      <td>2019</td>\n",
       "      <td>7.94</td>\n",
       "      <td>18.541667</td>\n",
       "      <td>2.291667</td>\n",
       "      <td>2.291667</td>\n",
       "      <td>0.000000</td>\n",
       "      <td>20.833333</td>\n",
       "      <td>14.375000</td>\n",
       "      <td>20.833333</td>\n",
       "      <td>20.833333</td>\n",
       "    </tr>\n",
       "    <tr>\n",
       "      <th>10</th>\n",
       "      <td>2020</td>\n",
       "      <td>8.14</td>\n",
       "      <td>17.926566</td>\n",
       "      <td>5.183585</td>\n",
       "      <td>3.023758</td>\n",
       "      <td>0.000000</td>\n",
       "      <td>21.598272</td>\n",
       "      <td>21.598272</td>\n",
       "      <td>9.071274</td>\n",
       "      <td>21.598272</td>\n",
       "    </tr>\n",
       "    <tr>\n",
       "      <th>11</th>\n",
       "      <td>2021</td>\n",
       "      <td>8.60</td>\n",
       "      <td>20.125786</td>\n",
       "      <td>3.818509</td>\n",
       "      <td>1.707098</td>\n",
       "      <td>0.000000</td>\n",
       "      <td>22.461815</td>\n",
       "      <td>22.461815</td>\n",
       "      <td>6.963163</td>\n",
       "      <td>22.461815</td>\n",
       "    </tr>\n",
       "    <tr>\n",
       "      <th>12</th>\n",
       "      <td>2022</td>\n",
       "      <td>7.90</td>\n",
       "      <td>23.148148</td>\n",
       "      <td>5.092593</td>\n",
       "      <td>2.314815</td>\n",
       "      <td>0.000000</td>\n",
       "      <td>23.148148</td>\n",
       "      <td>12.731481</td>\n",
       "      <td>10.416667</td>\n",
       "      <td>23.148148</td>\n",
       "    </tr>\n",
       "    <tr>\n",
       "      <th>13</th>\n",
       "      <td>2023</td>\n",
       "      <td>7.30</td>\n",
       "      <td>25.000000</td>\n",
       "      <td>0.000000</td>\n",
       "      <td>0.000000</td>\n",
       "      <td>0.000000</td>\n",
       "      <td>25.000000</td>\n",
       "      <td>15.000000</td>\n",
       "      <td>10.000000</td>\n",
       "      <td>25.000000</td>\n",
       "    </tr>\n",
       "    <tr>\n",
       "      <th>14</th>\n",
       "      <td>2024</td>\n",
       "      <td>NaN</td>\n",
       "      <td>18.223235</td>\n",
       "      <td>5.466970</td>\n",
       "      <td>3.189066</td>\n",
       "      <td>4.783599</td>\n",
       "      <td>22.779043</td>\n",
       "      <td>15.945330</td>\n",
       "      <td>6.833713</td>\n",
       "      <td>22.779043</td>\n",
       "    </tr>\n",
       "  </tbody>\n",
       "</table>\n",
       "</div>"
      ],
      "text/plain": [
       "    Tahun  Persentase Kemiskinan  Biaya kuliah  Biaya listrik  \\\n",
       "0    2010                  13.11     22.252109       3.202537   \n",
       "1    2011                  11.51     34.500000      10.000000   \n",
       "2    2012                  10.75     22.252109       3.202537   \n",
       "3    2013                  10.58     22.252109       3.202537   \n",
       "4    2014                   9.87     22.252109       3.202537   \n",
       "5    2015                  10.09     22.252109       3.202537   \n",
       "6    2016                  10.10     25.000000       0.000000   \n",
       "7    2017                   9.90     24.271845       0.000000   \n",
       "8    2018                   7.94     21.250000       3.750000   \n",
       "9    2019                   7.94     18.541667       2.291667   \n",
       "10   2020                   8.14     17.926566       5.183585   \n",
       "11   2021                   8.60     20.125786       3.818509   \n",
       "12   2022                   7.90     23.148148       5.092593   \n",
       "13   2023                   7.30     25.000000       0.000000   \n",
       "14   2024                    NaN     18.223235       5.466970   \n",
       "\n",
       "    Biaya rumah sakit  Medical check up  Paket Internet  Biaya sekolah  \\\n",
       "0            1.987781          0.993891       24.375170      14.982903   \n",
       "1            5.500000          7.000000       43.000000       0.000000   \n",
       "2            1.987781          0.993891       24.375170      14.982903   \n",
       "3            1.987781          0.993891       24.375170      14.982903   \n",
       "4            1.987781          0.993891       24.375170      14.982903   \n",
       "5            1.987781          0.993891       24.375170      14.982903   \n",
       "6            0.000000          0.000000       25.000000      13.250000   \n",
       "7            2.912621          1.213592       23.058252       9.223301   \n",
       "8            0.000000          0.000000       25.000000      14.500000   \n",
       "9            2.291667          0.000000       20.833333      14.375000   \n",
       "10           3.023758          0.000000       21.598272      21.598272   \n",
       "11           1.707098          0.000000       22.461815      22.461815   \n",
       "12           2.314815          0.000000       23.148148      12.731481   \n",
       "13           0.000000          0.000000       25.000000      15.000000   \n",
       "14           3.189066          4.783599       22.779043      15.945330   \n",
       "\n",
       "    Harga bensin  Jual rumah  \n",
       "0      10.907951   21.297658  \n",
       "1       0.000000    0.000000  \n",
       "2      10.907951   21.297658  \n",
       "3      10.907951   21.297658  \n",
       "4      10.907951   21.297658  \n",
       "5      10.907951   21.297658  \n",
       "6      11.750000   25.000000  \n",
       "7      15.048544   24.271845  \n",
       "8      10.500000   25.000000  \n",
       "9      20.833333   20.833333  \n",
       "10      9.071274   21.598272  \n",
       "11      6.963163   22.461815  \n",
       "12     10.416667   23.148148  \n",
       "13     10.000000   25.000000  \n",
       "14      6.833713   22.779043  "
      ]
     },
     "execution_count": 47,
     "metadata": {},
     "output_type": "execute_result"
    }
   ],
   "source": [
    "# Membaca file Excel yang diunggah oleh user\n",
    "file_path = '../compile/compiled_data_normalized_ver2.xlsx'\n",
    "data = pd.read_excel(file_path)\n",
    "data"
   ]
  },
  {
   "cell_type": "markdown",
   "metadata": {},
   "source": [
    "### Split"
   ]
  },
  {
   "cell_type": "code",
   "execution_count": 48,
   "metadata": {},
   "outputs": [],
   "source": [
    "target = 'Persentase Kemiskinan'\n",
    "exog_vars = data.columns[2:]  # Semua kolom setelah 'Persentase Kemiskinan'\n",
    "\n",
    "# Membagi data menjadi training dan testing\n",
    "train_data = data[data['Tahun'].between(2010, 2021)].drop(columns=['Tahun'])\n",
    "test_data = data[data['Tahun'].between(2022, 2023)].drop(columns=['Tahun'])"
   ]
  },
  {
   "cell_type": "code",
   "execution_count": 49,
   "metadata": {},
   "outputs": [
    {
     "data": {
      "text/html": [
       "<div>\n",
       "<style scoped>\n",
       "    .dataframe tbody tr th:only-of-type {\n",
       "        vertical-align: middle;\n",
       "    }\n",
       "\n",
       "    .dataframe tbody tr th {\n",
       "        vertical-align: top;\n",
       "    }\n",
       "\n",
       "    .dataframe thead th {\n",
       "        text-align: right;\n",
       "    }\n",
       "</style>\n",
       "<table border=\"1\" class=\"dataframe\">\n",
       "  <thead>\n",
       "    <tr style=\"text-align: right;\">\n",
       "      <th></th>\n",
       "      <th>Persentase Kemiskinan</th>\n",
       "      <th>Biaya kuliah</th>\n",
       "      <th>Biaya listrik</th>\n",
       "      <th>Biaya rumah sakit</th>\n",
       "      <th>Medical check up</th>\n",
       "      <th>Paket Internet</th>\n",
       "      <th>Biaya sekolah</th>\n",
       "      <th>Harga bensin</th>\n",
       "      <th>Jual rumah</th>\n",
       "    </tr>\n",
       "  </thead>\n",
       "  <tbody>\n",
       "    <tr>\n",
       "      <th>0</th>\n",
       "      <td>13.11</td>\n",
       "      <td>22.252109</td>\n",
       "      <td>3.202537</td>\n",
       "      <td>1.987781</td>\n",
       "      <td>0.993891</td>\n",
       "      <td>24.375170</td>\n",
       "      <td>14.982903</td>\n",
       "      <td>10.907951</td>\n",
       "      <td>21.297658</td>\n",
       "    </tr>\n",
       "    <tr>\n",
       "      <th>1</th>\n",
       "      <td>11.51</td>\n",
       "      <td>34.500000</td>\n",
       "      <td>10.000000</td>\n",
       "      <td>5.500000</td>\n",
       "      <td>7.000000</td>\n",
       "      <td>43.000000</td>\n",
       "      <td>0.000000</td>\n",
       "      <td>0.000000</td>\n",
       "      <td>0.000000</td>\n",
       "    </tr>\n",
       "    <tr>\n",
       "      <th>2</th>\n",
       "      <td>10.75</td>\n",
       "      <td>22.252109</td>\n",
       "      <td>3.202537</td>\n",
       "      <td>1.987781</td>\n",
       "      <td>0.993891</td>\n",
       "      <td>24.375170</td>\n",
       "      <td>14.982903</td>\n",
       "      <td>10.907951</td>\n",
       "      <td>21.297658</td>\n",
       "    </tr>\n",
       "    <tr>\n",
       "      <th>3</th>\n",
       "      <td>10.58</td>\n",
       "      <td>22.252109</td>\n",
       "      <td>3.202537</td>\n",
       "      <td>1.987781</td>\n",
       "      <td>0.993891</td>\n",
       "      <td>24.375170</td>\n",
       "      <td>14.982903</td>\n",
       "      <td>10.907951</td>\n",
       "      <td>21.297658</td>\n",
       "    </tr>\n",
       "    <tr>\n",
       "      <th>4</th>\n",
       "      <td>9.87</td>\n",
       "      <td>22.252109</td>\n",
       "      <td>3.202537</td>\n",
       "      <td>1.987781</td>\n",
       "      <td>0.993891</td>\n",
       "      <td>24.375170</td>\n",
       "      <td>14.982903</td>\n",
       "      <td>10.907951</td>\n",
       "      <td>21.297658</td>\n",
       "    </tr>\n",
       "    <tr>\n",
       "      <th>5</th>\n",
       "      <td>10.09</td>\n",
       "      <td>22.252109</td>\n",
       "      <td>3.202537</td>\n",
       "      <td>1.987781</td>\n",
       "      <td>0.993891</td>\n",
       "      <td>24.375170</td>\n",
       "      <td>14.982903</td>\n",
       "      <td>10.907951</td>\n",
       "      <td>21.297658</td>\n",
       "    </tr>\n",
       "    <tr>\n",
       "      <th>6</th>\n",
       "      <td>10.10</td>\n",
       "      <td>25.000000</td>\n",
       "      <td>0.000000</td>\n",
       "      <td>0.000000</td>\n",
       "      <td>0.000000</td>\n",
       "      <td>25.000000</td>\n",
       "      <td>13.250000</td>\n",
       "      <td>11.750000</td>\n",
       "      <td>25.000000</td>\n",
       "    </tr>\n",
       "    <tr>\n",
       "      <th>7</th>\n",
       "      <td>9.90</td>\n",
       "      <td>24.271845</td>\n",
       "      <td>0.000000</td>\n",
       "      <td>2.912621</td>\n",
       "      <td>1.213592</td>\n",
       "      <td>23.058252</td>\n",
       "      <td>9.223301</td>\n",
       "      <td>15.048544</td>\n",
       "      <td>24.271845</td>\n",
       "    </tr>\n",
       "    <tr>\n",
       "      <th>8</th>\n",
       "      <td>7.94</td>\n",
       "      <td>21.250000</td>\n",
       "      <td>3.750000</td>\n",
       "      <td>0.000000</td>\n",
       "      <td>0.000000</td>\n",
       "      <td>25.000000</td>\n",
       "      <td>14.500000</td>\n",
       "      <td>10.500000</td>\n",
       "      <td>25.000000</td>\n",
       "    </tr>\n",
       "    <tr>\n",
       "      <th>9</th>\n",
       "      <td>7.94</td>\n",
       "      <td>18.541667</td>\n",
       "      <td>2.291667</td>\n",
       "      <td>2.291667</td>\n",
       "      <td>0.000000</td>\n",
       "      <td>20.833333</td>\n",
       "      <td>14.375000</td>\n",
       "      <td>20.833333</td>\n",
       "      <td>20.833333</td>\n",
       "    </tr>\n",
       "    <tr>\n",
       "      <th>10</th>\n",
       "      <td>8.14</td>\n",
       "      <td>17.926566</td>\n",
       "      <td>5.183585</td>\n",
       "      <td>3.023758</td>\n",
       "      <td>0.000000</td>\n",
       "      <td>21.598272</td>\n",
       "      <td>21.598272</td>\n",
       "      <td>9.071274</td>\n",
       "      <td>21.598272</td>\n",
       "    </tr>\n",
       "    <tr>\n",
       "      <th>11</th>\n",
       "      <td>8.60</td>\n",
       "      <td>20.125786</td>\n",
       "      <td>3.818509</td>\n",
       "      <td>1.707098</td>\n",
       "      <td>0.000000</td>\n",
       "      <td>22.461815</td>\n",
       "      <td>22.461815</td>\n",
       "      <td>6.963163</td>\n",
       "      <td>22.461815</td>\n",
       "    </tr>\n",
       "  </tbody>\n",
       "</table>\n",
       "</div>"
      ],
      "text/plain": [
       "    Persentase Kemiskinan  Biaya kuliah  Biaya listrik  Biaya rumah sakit  \\\n",
       "0                   13.11     22.252109       3.202537           1.987781   \n",
       "1                   11.51     34.500000      10.000000           5.500000   \n",
       "2                   10.75     22.252109       3.202537           1.987781   \n",
       "3                   10.58     22.252109       3.202537           1.987781   \n",
       "4                    9.87     22.252109       3.202537           1.987781   \n",
       "5                   10.09     22.252109       3.202537           1.987781   \n",
       "6                   10.10     25.000000       0.000000           0.000000   \n",
       "7                    9.90     24.271845       0.000000           2.912621   \n",
       "8                    7.94     21.250000       3.750000           0.000000   \n",
       "9                    7.94     18.541667       2.291667           2.291667   \n",
       "10                   8.14     17.926566       5.183585           3.023758   \n",
       "11                   8.60     20.125786       3.818509           1.707098   \n",
       "\n",
       "    Medical check up  Paket Internet  Biaya sekolah  Harga bensin  Jual rumah  \n",
       "0           0.993891       24.375170      14.982903     10.907951   21.297658  \n",
       "1           7.000000       43.000000       0.000000      0.000000    0.000000  \n",
       "2           0.993891       24.375170      14.982903     10.907951   21.297658  \n",
       "3           0.993891       24.375170      14.982903     10.907951   21.297658  \n",
       "4           0.993891       24.375170      14.982903     10.907951   21.297658  \n",
       "5           0.993891       24.375170      14.982903     10.907951   21.297658  \n",
       "6           0.000000       25.000000      13.250000     11.750000   25.000000  \n",
       "7           1.213592       23.058252       9.223301     15.048544   24.271845  \n",
       "8           0.000000       25.000000      14.500000     10.500000   25.000000  \n",
       "9           0.000000       20.833333      14.375000     20.833333   20.833333  \n",
       "10          0.000000       21.598272      21.598272      9.071274   21.598272  \n",
       "11          0.000000       22.461815      22.461815      6.963163   22.461815  "
      ]
     },
     "execution_count": 49,
     "metadata": {},
     "output_type": "execute_result"
    }
   ],
   "source": [
    "train_data"
   ]
  },
  {
   "cell_type": "code",
   "execution_count": 50,
   "metadata": {},
   "outputs": [
    {
     "data": {
      "text/html": [
       "<div>\n",
       "<style scoped>\n",
       "    .dataframe tbody tr th:only-of-type {\n",
       "        vertical-align: middle;\n",
       "    }\n",
       "\n",
       "    .dataframe tbody tr th {\n",
       "        vertical-align: top;\n",
       "    }\n",
       "\n",
       "    .dataframe thead th {\n",
       "        text-align: right;\n",
       "    }\n",
       "</style>\n",
       "<table border=\"1\" class=\"dataframe\">\n",
       "  <thead>\n",
       "    <tr style=\"text-align: right;\">\n",
       "      <th></th>\n",
       "      <th>Persentase Kemiskinan</th>\n",
       "      <th>Biaya kuliah</th>\n",
       "      <th>Biaya listrik</th>\n",
       "      <th>Biaya rumah sakit</th>\n",
       "      <th>Medical check up</th>\n",
       "      <th>Paket Internet</th>\n",
       "      <th>Biaya sekolah</th>\n",
       "      <th>Harga bensin</th>\n",
       "      <th>Jual rumah</th>\n",
       "    </tr>\n",
       "  </thead>\n",
       "  <tbody>\n",
       "    <tr>\n",
       "      <th>12</th>\n",
       "      <td>7.9</td>\n",
       "      <td>23.148148</td>\n",
       "      <td>5.092593</td>\n",
       "      <td>2.314815</td>\n",
       "      <td>0.0</td>\n",
       "      <td>23.148148</td>\n",
       "      <td>12.731481</td>\n",
       "      <td>10.416667</td>\n",
       "      <td>23.148148</td>\n",
       "    </tr>\n",
       "    <tr>\n",
       "      <th>13</th>\n",
       "      <td>7.3</td>\n",
       "      <td>25.000000</td>\n",
       "      <td>0.000000</td>\n",
       "      <td>0.000000</td>\n",
       "      <td>0.0</td>\n",
       "      <td>25.000000</td>\n",
       "      <td>15.000000</td>\n",
       "      <td>10.000000</td>\n",
       "      <td>25.000000</td>\n",
       "    </tr>\n",
       "  </tbody>\n",
       "</table>\n",
       "</div>"
      ],
      "text/plain": [
       "    Persentase Kemiskinan  Biaya kuliah  Biaya listrik  Biaya rumah sakit  \\\n",
       "12                    7.9     23.148148       5.092593           2.314815   \n",
       "13                    7.3     25.000000       0.000000           0.000000   \n",
       "\n",
       "    Medical check up  Paket Internet  Biaya sekolah  Harga bensin  Jual rumah  \n",
       "12               0.0       23.148148      12.731481     10.416667   23.148148  \n",
       "13               0.0       25.000000      15.000000     10.000000   25.000000  "
      ]
     },
     "execution_count": 50,
     "metadata": {},
     "output_type": "execute_result"
    }
   ],
   "source": [
    "test_data"
   ]
  },
  {
   "cell_type": "markdown",
   "metadata": {},
   "source": [
    "### Modelling"
   ]
  },
  {
   "cell_type": "code",
   "execution_count": 51,
   "metadata": {},
   "outputs": [],
   "source": [
    "# Membagi data menjadi fitur (X) dan target (y)\n",
    "X_train = train_data[exog_vars]\n",
    "y_train = train_data[target]\n",
    "X_test = test_data[exog_vars]\n",
    "y_test = test_data[target]\n"
   ]
  },
  {
   "cell_type": "code",
   "execution_count": 52,
   "metadata": {},
   "outputs": [],
   "source": [
    "models = {\n",
    "    \"Random Forest\": RandomForestRegressor(random_state=42),\n",
    "    \"Gradient Boosting\": GradientBoostingRegressor(random_state=42),\n",
    "    \"XGBoost\": XGBRegressor(random_state=42, objective='reg:squarederror')\n",
    "}\n",
    "\n",
    "param_grid = {\n",
    "    \"Random Forest\": {\n",
    "        'n_estimators': [50, 100, 150, 200, 250, 300, 350, 400, 450, 500],\n",
    "        'max_depth': [None, 5, 10, 15, 20, 25, 30, 35, 40, 45]\n",
    "    },\n",
    "    \"Gradient Boosting\": {\n",
    "        'n_estimators': [50, 100, 150, 200, 250, 300, 350, 400, 450, 500],\n",
    "        'learning_rate': [0.001, 0.01, 0.05, 0.1, 0.15, 0.2, 0.25, 0.3, 0.35, 0.4],\n",
    "        'max_depth': [3, 4, 5, 6, 7, 8, 9, 10, 11, 12]\n",
    "    },\n",
    "    \"XGBoost\": {\n",
    "        'n_estimators': [50, 100, 150, 200, 250, 300, 350, 400, 450, 500],\n",
    "        'learning_rate': [0.001, 0.01, 0.05, 0.1, 0.15, 0.2, 0.25, 0.3, 0.35, 0.4],\n",
    "        'max_depth': [3, 4, 5, 6, 7, 8, 9, 10, 11, 12]\n",
    "    }\n",
    "}"
   ]
  },
  {
   "cell_type": "code",
   "execution_count": 53,
   "metadata": {},
   "outputs": [],
   "source": [
    "# Langkah 1: Standarisasi data\n",
    "scaler = StandardScaler()\n",
    "X_scaled = scaler.fit_transform(X_train)\n",
    "\n",
    "# Langkah 2: Melakukan PCA\n",
    "pca = PCA()\n",
    "X_pca = pca.fit_transform(X_scaled)"
   ]
  },
  {
   "cell_type": "code",
   "execution_count": 54,
   "metadata": {},
   "outputs": [
    {
     "data": {
      "text/plain": [
       "['pca.pkl']"
      ]
     },
     "execution_count": 54,
     "metadata": {},
     "output_type": "execute_result"
    }
   ],
   "source": [
    "joblib.dump(scaler, 'scaler.pkl')\n",
    "\n",
    "joblib.dump(pca, 'pca.pkl')"
   ]
  },
  {
   "cell_type": "code",
   "execution_count": 55,
   "metadata": {},
   "outputs": [
    {
     "data": {
      "text/plain": [
       "array([6.69941439e+00, 1.09051642e+00, 6.93379186e-01, 1.98210072e-01,\n",
       "       3.96455158e-02, 6.10622025e-03, 9.28345613e-07, 6.14236394e-34])"
      ]
     },
     "execution_count": 55,
     "metadata": {},
     "output_type": "execute_result"
    }
   ],
   "source": [
    "\n",
    "eigenvalues = pca.explained_variance_\n",
    "eigenvalues"
   ]
  },
  {
   "cell_type": "code",
   "execution_count": 56,
   "metadata": {},
   "outputs": [
    {
     "data": {
      "text/plain": [
       "(array([6.69941439e+00, 1.09051642e+00, 6.93379186e-01, 1.98210072e-01,\n",
       "        3.96455158e-02, 6.10622025e-03, 9.28345613e-07, 6.14236394e-34]),\n",
       " [1, 2])"
      ]
     },
     "execution_count": 56,
     "metadata": {},
     "output_type": "execute_result"
    }
   ],
   "source": [
    "\n",
    "pcs_above_one = [i+1 for i, eigenvalue in enumerate(eigenvalues) if eigenvalue > 1]\n",
    "\n",
    "\n",
    "eigenvalues, pcs_above_one"
   ]
  },
  {
   "cell_type": "markdown",
   "metadata": {},
   "source": [
    "Running"
   ]
  },
  {
   "cell_type": "code",
   "execution_count": 57,
   "metadata": {},
   "outputs": [
    {
     "name": "stderr",
     "output_type": "stream",
     "text": [
      "c:\\Users\\fezaa\\anaconda3\\Lib\\site-packages\\sklearn\\base.py:486: UserWarning: X has feature names, but PCA was fitted without feature names\n",
      "  warnings.warn(\n"
     ]
    }
   ],
   "source": [
    "# Langkah 1: Transformasikan data X_train dan X_test berdasarkan PC yang dipilih\n",
    "X_train_pca = X_pca[:, pcs_above_one]\n",
    "X_test_pca = pca.transform(X_test)[:, pcs_above_one]\n",
    "\n",
    "# Langkah 2: Loop untuk melakukan hyperparameter tuning pada setiap model dengan data hasil PCA\n",
    "best_models = {}\n",
    "model_results = {}\n",
    "\n",
    "for name, model in models.items():\n",
    "    grid_search = GridSearchCV(model, param_grid[name], cv=3, scoring='neg_mean_absolute_error', n_jobs=-1)\n",
    "    grid_search.fit(X_train_pca, y_train)\n",
    "    best_models[name] = grid_search.best_estimator_\n",
    "    y_pred = best_models[name].predict(X_test_pca)\n",
    "    model_results[name] = {\n",
    "        \"MAE\": mean_absolute_error(y_test, y_pred),\n",
    "        \"RMSE\": np.sqrt(mean_squared_error(y_test, y_pred)),\n",
    "        \"MAPE\": mean_absolute_percentage_error(y_test, y_pred),\n",
    "        \"R2\": r2_score(y_test, y_pred),\n",
    "        \"Best Params\": grid_search.best_params_\n",
    "    }"
   ]
  },
  {
   "cell_type": "code",
   "execution_count": 58,
   "metadata": {},
   "outputs": [
    {
     "data": {
      "text/plain": [
       "{'Random Forest': RandomForestRegressor(random_state=42),\n",
       " 'Gradient Boosting': GradientBoostingRegressor(learning_rate=0.3, n_estimators=150, random_state=42),\n",
       " 'XGBoost': XGBRegressor(base_score=None, booster=None, callbacks=None,\n",
       "              colsample_bylevel=None, colsample_bynode=None,\n",
       "              colsample_bytree=None, device=None, early_stopping_rounds=None,\n",
       "              enable_categorical=False, eval_metric=None, feature_types=None,\n",
       "              gamma=None, grow_policy=None, importance_type=None,\n",
       "              interaction_constraints=None, learning_rate=0.01, max_bin=None,\n",
       "              max_cat_threshold=None, max_cat_to_onehot=None,\n",
       "              max_delta_step=None, max_depth=4, max_leaves=None,\n",
       "              min_child_weight=None, missing=nan, monotone_constraints=None,\n",
       "              multi_strategy=None, n_estimators=500, n_jobs=None,\n",
       "              num_parallel_tree=None, random_state=42, ...)}"
      ]
     },
     "execution_count": 58,
     "metadata": {},
     "output_type": "execute_result"
    }
   ],
   "source": [
    "best_models"
   ]
  },
  {
   "cell_type": "markdown",
   "metadata": {},
   "source": [
    "### Model Terbaik"
   ]
  },
  {
   "cell_type": "code",
   "execution_count": 59,
   "metadata": {},
   "outputs": [],
   "source": [
    "# Forecasting untuk tahun 2024\n",
    "forecast_2024 = data[data['Tahun'] == 2024].copy()  # Mengambil data tahun 2024 untuk digunakan sebagai prediktor (eksogen variabel)\n",
    "forecast_2024['Tahun'] = 2024\n",
    "forecast_2024[target] = None  # Kolom target kosong karena ini yang akan kita prediksi"
   ]
  },
  {
   "cell_type": "code",
   "execution_count": 60,
   "metadata": {},
   "outputs": [
    {
     "data": {
      "text/html": [
       "<div>\n",
       "<style scoped>\n",
       "    .dataframe tbody tr th:only-of-type {\n",
       "        vertical-align: middle;\n",
       "    }\n",
       "\n",
       "    .dataframe tbody tr th {\n",
       "        vertical-align: top;\n",
       "    }\n",
       "\n",
       "    .dataframe thead th {\n",
       "        text-align: right;\n",
       "    }\n",
       "</style>\n",
       "<table border=\"1\" class=\"dataframe\">\n",
       "  <thead>\n",
       "    <tr style=\"text-align: right;\">\n",
       "      <th></th>\n",
       "      <th>Biaya kuliah</th>\n",
       "      <th>Biaya listrik</th>\n",
       "      <th>Biaya rumah sakit</th>\n",
       "      <th>Medical check up</th>\n",
       "      <th>Paket Internet</th>\n",
       "      <th>Biaya sekolah</th>\n",
       "      <th>Harga bensin</th>\n",
       "      <th>Jual rumah</th>\n",
       "    </tr>\n",
       "  </thead>\n",
       "  <tbody>\n",
       "    <tr>\n",
       "      <th>14</th>\n",
       "      <td>18.223235</td>\n",
       "      <td>5.46697</td>\n",
       "      <td>3.189066</td>\n",
       "      <td>4.783599</td>\n",
       "      <td>22.779043</td>\n",
       "      <td>15.94533</td>\n",
       "      <td>6.833713</td>\n",
       "      <td>22.779043</td>\n",
       "    </tr>\n",
       "  </tbody>\n",
       "</table>\n",
       "</div>"
      ],
      "text/plain": [
       "    Biaya kuliah  Biaya listrik  Biaya rumah sakit  Medical check up  \\\n",
       "14     18.223235        5.46697           3.189066          4.783599   \n",
       "\n",
       "    Paket Internet  Biaya sekolah  Harga bensin  Jual rumah  \n",
       "14       22.779043       15.94533      6.833713   22.779043  "
      ]
     },
     "execution_count": 60,
     "metadata": {},
     "output_type": "execute_result"
    }
   ],
   "source": [
    "forecast_2024[exog_vars]"
   ]
  },
  {
   "cell_type": "code",
   "execution_count": 61,
   "metadata": {},
   "outputs": [],
   "source": [
    "# Asumsikan forecast_2024 sudah diisi dengan query data eksogen 2024\n",
    "\n",
    "# Langkah 1: Standarisasi data eksogen 2024\n",
    "forecast_2024_scaled = scaler.transform(forecast_2024[exog_vars])\n",
    "\n",
    "# Langkah 2: Transformasi data eksogen 2024 menggunakan PCA\n",
    "forecast_2024_pca = pca.transform(forecast_2024_scaled)[:, pcs_above_one]\n",
    "\n",
    "# Langkah 3: Lakukan prediksi menggunakan model terbaik berdasarkan MAE\n",
    "best_model_name = min(model_results, key=lambda k: model_results[k][\"MAE\"])\n",
    "best_model = best_models[best_model_name]\n"
   ]
  },
  {
   "cell_type": "code",
   "execution_count": 62,
   "metadata": {},
   "outputs": [
    {
     "data": {
      "text/html": [
       "<div>\n",
       "<style scoped>\n",
       "    .dataframe tbody tr th:only-of-type {\n",
       "        vertical-align: middle;\n",
       "    }\n",
       "\n",
       "    .dataframe tbody tr th {\n",
       "        vertical-align: top;\n",
       "    }\n",
       "\n",
       "    .dataframe thead th {\n",
       "        text-align: right;\n",
       "    }\n",
       "</style>\n",
       "<table border=\"1\" class=\"dataframe\">\n",
       "  <thead>\n",
       "    <tr style=\"text-align: right;\">\n",
       "      <th></th>\n",
       "      <th>Tahun</th>\n",
       "      <th>Persentase Kemiskinan</th>\n",
       "    </tr>\n",
       "  </thead>\n",
       "  <tbody>\n",
       "    <tr>\n",
       "      <th>14</th>\n",
       "      <td>2024</td>\n",
       "      <td>8.084947</td>\n",
       "    </tr>\n",
       "  </tbody>\n",
       "</table>\n",
       "</div>"
      ],
      "text/plain": [
       "    Tahun  Persentase Kemiskinan\n",
       "14   2024               8.084947"
      ]
     },
     "execution_count": 62,
     "metadata": {},
     "output_type": "execute_result"
    }
   ],
   "source": [
    "forecast_2024['Persentase Kemiskinan'] = best_model.predict(forecast_2024_pca)\n",
    "\n",
    "# Menampilkan hasil prediksi untuk tahun 2024\n",
    "forecast_2024[['Tahun', 'Persentase Kemiskinan']]"
   ]
  },
  {
   "cell_type": "code",
   "execution_count": 63,
   "metadata": {},
   "outputs": [
    {
     "data": {
      "text/plain": [
       "({'Random Forest': {'MAE': 2.403160000000003,\n",
       "   'RMSE': 2.421812954296845,\n",
       "   'MAPE': 0.31825933761054315,\n",
       "   'R2': -64.16864428444447,\n",
       "   'Best Params': {'max_depth': None, 'n_estimators': 100}},\n",
       "  'Gradient Boosting': {'MAE': 2.4999999999175606,\n",
       "   'RMSE': 2.517935662320982,\n",
       "   'MAPE': 0.3310213282360579,\n",
       "   'R2': -69.44444443986436,\n",
       "   'Best Params': {'learning_rate': 0.3, 'max_depth': 3, 'n_estimators': 150}},\n",
       "  'XGBoost': {'MAE': 2.337175750732422,\n",
       "   'RMSE': 2.3563510964649685,\n",
       "   'MAPE': 0.3095636501745519,\n",
       "   'R2': -60.693227664573875,\n",
       "   'Best Params': {'learning_rate': 0.01,\n",
       "    'max_depth': 4,\n",
       "    'n_estimators': 500}}},\n",
       "     Tahun  Persentase Kemiskinan\n",
       " 14   2024               8.084947)"
      ]
     },
     "execution_count": 63,
     "metadata": {},
     "output_type": "execute_result"
    }
   ],
   "source": [
    "# Menampilkan hasil evaluasi model dan prediksi untuk tahun 2024\n",
    "model_results, forecast_2024[['Tahun', 'Persentase Kemiskinan']]"
   ]
  },
  {
   "cell_type": "markdown",
   "metadata": {},
   "source": [
    "### Plot Forecasting"
   ]
  },
  {
   "cell_type": "code",
   "execution_count": 64,
   "metadata": {},
   "outputs": [
    {
     "data": {
      "image/png": "[encoded data removed]",
      "text/plain": [
       "<Figure size 1000x600 with 1 Axes>"
      ]
     },
     "metadata": {},
     "output_type": "display_data"
    }
   ],
   "source": [
    "# Menggabungkan data asli dan data forecasting untuk plot\n",
    "historical_data = data[['Tahun', 'Persentase Kemiskinan']]\n",
    "forecast_2024_data = forecast_2024[['Tahun', 'Persentase Kemiskinan']]\n",
    "\n",
    "# Gabungkan data historis dan hasil forecast\n",
    "combined_data = pd.concat([historical_data, forecast_2024_data])\n",
    "\n",
    "# Plot data historis dan hasil forecast sebagai satu garis yang tersambung\n",
    "plt.figure(figsize=(10, 6))\n",
    "plt.plot(historical_data['Tahun'], historical_data['Persentase Kemiskinan'], marker='o', color='blue', label='Data Historis + Forecast')\n",
    "plt.plot(forecast_2024_data['Tahun'], forecast_2024_data['Persentase Kemiskinan'], marker='o', color='red', label='Forecast 2024')\n",
    "\n",
    "# Menambahkan judul dan label\n",
    "plt.title('Forecast Persentase Kemiskinan untuk Tahun 2024')\n",
    "plt.xlabel('Tahun')\n",
    "plt.ylabel('Persentase Kemiskinan')\n",
    "plt.legend()\n",
    "plt.grid(True)\n",
    "plt.show()"
   ]
  },
  {
   "cell_type": "markdown",
   "metadata": {},
   "source": [
    "### Hasil Setiap Model"
   ]
  },
  {
   "cell_type": "code",
   "execution_count": 65,
   "metadata": {},
   "outputs": [
    {
     "name": "stdout",
     "output_type": "stream",
     "text": [
      "Forecast 'Persentase Kemiskinan' tahun 2024 oleh Random Forest: 8.7426\n",
      "Forecast 'Persentase Kemiskinan' tahun 2024 oleh Gradient Boosting: 8.2808\n",
      "Forecast 'Persentase Kemiskinan' tahun 2024 oleh XGBoost: 8.0849\n"
     ]
    }
   ],
   "source": [
    "# Dictionary untuk menyimpan hasil forecast dari setiap model\n",
    "forecast_results = {}\n",
    "\n",
    "# Langkah 1: Standarisasi data eksogen 2024\n",
    "forecast_2024_scaled = scaler.transform(forecast_2024[exog_vars])\n",
    "\n",
    "# Langkah 2: Transformasi data eksogen 2024 menggunakan PCA\n",
    "forecast_2024_pca = pca.transform(forecast_2024_scaled)[:, pcs_above_one]\n",
    "\n",
    "# Langkah 3: Melakukan forecast untuk tahun 2024 menggunakan setiap model yang sudah di-tuning\n",
    "for name, model in best_models.items():\n",
    "    forecast_2024[target] = model.predict(forecast_2024_pca)\n",
    "    forecast_results[name] = forecast_2024[target].values[0]  # Simpan hasil prediksi untuk tahun 2024\n",
    "\n",
    "# Tampilkan hasil forecasting dari setiap model\n",
    "for model_name, forecast_value in forecast_results.items():\n",
    "    print(f\"Forecast 'Persentase Kemiskinan' tahun 2024 oleh {model_name}: {forecast_value:.4f}\")\n"
   ]
  },
  {
   "cell_type": "markdown",
   "metadata": {},
   "source": [
    "### Menyimpan Model"
   ]
  },
  {
   "cell_type": "code",
   "execution_count": 66,
   "metadata": {},
   "outputs": [
    {
     "name": "stdout",
     "output_type": "stream",
     "text": [
      "Model Random Forest berhasil disimpan sebagai Random Forest_model.pkl\n",
      "Model Gradient Boosting berhasil disimpan sebagai Gradient Boosting_model.pkl\n",
      "Model XGBoost berhasil disimpan sebagai XGBoost_model.pkl\n"
     ]
    }
   ],
   "source": [
    "import joblib\n",
    "\n",
    "# Simpan model terbaik dari setiap metode\n",
    "for name, model in best_models.items():\n",
    "    filename = f'{name}_model.pkl'\n",
    "    joblib.dump(model, filename)\n",
    "    print(f'Model {name} berhasil disimpan sebagai {filename}')\n"
   ]
  },
  {
   "cell_type": "markdown",
   "metadata": {},
   "source": [
    "#### Input Query"
   ]
  },
  {
   "cell_type": "code",
   "execution_count": 67,
   "metadata": {},
   "outputs": [],
   "source": [
    "# Load the necessary files (scaler, PCA, and trained models)\n",
    "scaler = joblib.load('scaler.pkl')\n",
    "pca = joblib.load('pca.pkl')\n",
    "best_models = {\n",
    "    'Random Forest': joblib.load('Random Forest_model.pkl'),\n",
    "    'Gradient Boosting': joblib.load('Gradient Boosting_model.pkl'),\n",
    "    'XGBoost': joblib.load('XGBoost_model.pkl'),\n",
    "}"
   ]
  },
  {
   "cell_type": "code",
   "execution_count": 88,
   "metadata": {},
   "outputs": [],
   "source": [
    "\n",
    "# Function to perform forecasting based on new input data\n",
    "def forecast_poverty_percentage(new_input):\n",
    "    # Step 1: Standardize the new exogenous input data\n",
    "    new_input_scaled = scaler.transform([new_input])\n",
    "\n",
    "    # Step 2: Transform the standardized data using PCA\n",
    "    new_input_pca = pca.transform(new_input_scaled)[:, pcs_above_one]\n",
    "\n",
    "    # Step 3: Perform forecasting for the new input data using each of the tuned models\n",
    "    forecast_results = {}\n",
    "    for name, model in best_models.items():\n",
    "        forecast_value = model.predict(new_input_pca)\n",
    "        forecast_results[name] = forecast_value[0]  # Store the forecasted value\n",
    "\n",
    "    return forecast_results"
   ]
  },
  {
   "cell_type": "code",
   "execution_count": 90,
   "metadata": {},
   "outputs": [
    {
     "name": "stdout",
     "output_type": "stream",
     "text": [
      "Forecast 'Persentase Kemiskinan' for 2025 by Random Forest: 8.7426\n",
      "Forecast 'Persentase Kemiskinan' for 2025 by Gradient Boosting: 8.2808\n",
      "Forecast 'Persentase Kemiskinan' for 2025 by XGBoost: 8.0849\n"
     ]
    },
    {
     "name": "stderr",
     "output_type": "stream",
     "text": [
      "c:\\Users\\fezaa\\anaconda3\\Lib\\site-packages\\sklearn\\base.py:493: UserWarning: X does not have valid feature names, but StandardScaler was fitted with feature names\n",
      "  warnings.warn(\n"
     ]
    }
   ],
   "source": [
    "# Example input data for 2024 (as an array or list)\n",
    "import random\n",
    "\n",
    "new_input_2025 = [random.randint(1, 100) for _ in range(8)]\n",
    "\n",
    "query = [18.22, 5.47, 3.19, 4.78, 22.78, 15.95, 6.83, 22.78]\n",
    "# Replace with the actual values for exogenous variables\n",
    "\n",
    "exog_vars = [\n",
    "    'Biaya kuliah',\n",
    "    'Biaya listrik',\n",
    "    'Biaya rumah sakit',\n",
    "    'Medical check up',\n",
    "    'Paket Internet',\n",
    "    'Biaya sekolah',\n",
    "    'Harga bensin',\n",
    "    'Jual rumah'\n",
    "]\n",
    "\n",
    "# Target variable to be predicted\n",
    "target = 'Persentase Kemiskinan'\n",
    "\n",
    "# Perform forecasting for the new input data\n",
    "forecast_2025 = forecast_poverty_percentage(query)\n",
    "\n",
    "# Display the forecast results\n",
    "for model_name, forecast_value in forecast_2025.items():\n",
    "    print(f\"Forecast 'Persentase Kemiskinan' for 2025 by {model_name}: {forecast_value:.4f}\")"
   ]
  },
  {
   "cell_type": "markdown",
   "metadata": {},
   "source": [
    "## Model Machine Learning Gak Bisa Tanpa Variabel Eksogen"
   ]
  }
 ],
 "metadata": {
  "kernelspec": {
   "display_name": "base",
   "language": "python",
   "name": "python3"
  },
  "language_info": {
   "codemirror_mode": {
    "name": "ipython",
    "version": 3
   },
   "file_extension": ".py",
   "mimetype": "text/x-python",
   "name": "python",
   "nbconvert_exporter": "python",
   "pygments_lexer": "ipython3",
   "version": "3.11.7"
  }
 },
 "nbformat": 4,
 "nbformat_minor": 2
}
