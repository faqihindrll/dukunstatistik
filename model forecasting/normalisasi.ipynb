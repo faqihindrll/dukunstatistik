{
 "cells": [
  {
   "cell_type": "code",
   "execution_count": 3,
   "metadata": {},
   "outputs": [
    {
     "data": {
      "text/plain": [
       "'C:/Users/fezaa/My Drive/00. Drive PC/1.STIS/7. Semester 7/MAGANG/02. FORECAST KEMISKINAN/compile/compiled_data_normalized_ver2.xlsx'"
      ]
     },
     "execution_count": 3,
     "metadata": {},
     "output_type": "execute_result"
    }
   ],
   "source": [
    "import pandas as pd\n",
    "\n",
    "file_path = 'C:/Users/fezaa/My Drive/00. Drive PC/1.STIS/7. Semester 7/MAGANG/02. FORECAST KEMISKINAN/compile/compiled_data_reordered_imputed_corrected_clean.xlsx'\n",
    "df = pd.read_excel(file_path)\n",
    "\n",
    "# Normalize the data (except 'Tahun' and 'Persentase Kemiskinan')\n",
    "columns_to_normalize = df.columns.difference(['Tahun', 'Persentase Kemiskinan'])\n",
    "\n",
    "# Apply normalization\n",
    "df_normalized = df.copy()\n",
    "df_normalized[columns_to_normalize] = df[columns_to_normalize].apply(\n",
    "    lambda row: (row / row.sum()) * 100 if row.sum() != 0 else row, axis=1\n",
    ")\n",
    "\n",
    "# Save the normalized data to a new Excel file\n",
    "output_path = 'C:/Users/fezaa/My Drive/00. Drive PC/1.STIS/7. Semester 7/MAGANG/02. FORECAST KEMISKINAN/compile/compiled_data_normalized_ver2.xlsx'\n",
    "df_normalized.to_excel(output_path, index=False)\n",
    "\n",
    "output_path\n"
   ]
  }
 ],
 "metadata": {
  "kernelspec": {
   "display_name": "base",
   "language": "python",
   "name": "python3"
  },
  "language_info": {
   "codemirror_mode": {
    "name": "ipython",
    "version": 3
   },
   "file_extension": ".py",
   "mimetype": "text/x-python",
   "name": "python",
   "nbconvert_exporter": "python",
   "pygments_lexer": "ipython3",
   "version": "3.11.7"
  }
 },
 "nbformat": 4,
 "nbformat_minor": 2
}
